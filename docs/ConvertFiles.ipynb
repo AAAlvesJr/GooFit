{
 "cells": [
  {
   "cell_type": "code",
   "execution_count": 1,
   "metadata": {
    "collapsed": true
   },
   "outputs": [],
   "source": [
    "import re\n",
    "from plumbum import local"
   ]
  },
  {
   "cell_type": "code",
   "execution_count": 22,
   "metadata": {
    "collapsed": true
   },
   "outputs": [],
   "source": [
    "def convert_h(path):\n",
    "    \"Takes a path in, converts all h* files to end in h\"\n",
    "\n",
    "    ppath = local.cwd / path\n",
    "    files = ppath // '*.h*'\n",
    "    for file in files:\n",
    "        if file.suffix != '.h':\n",
    "            file.move(file.with_suffix('.h'))"
   ]
  },
  {
   "cell_type": "markdown",
   "metadata": {},
   "source": [
    "Convert all `.hh` files to `.h`"
   ]
  },
  {
   "cell_type": "code",
   "execution_count": 23,
   "metadata": {
    "collapsed": true
   },
   "outputs": [],
   "source": [
    "convert_h(\"include/goofit/\")\n",
    "convert_h(\"include/goofit/PDFs\")\n",
    "convert_h(\"include/goofit/rootstuff/\")"
   ]
  },
  {
   "cell_type": "markdown",
   "metadata": {},
   "source": [
    "Convert usages of includes to new locations, and standardize usage and `.hh`/`.h`"
   ]
  },
  {
   "cell_type": "code",
   "execution_count": 13,
   "metadata": {
    "collapsed": true
   },
   "outputs": [],
   "source": [
    "base = local.cwd / 'include'\n",
    "files = base // '*/*.h'\n",
    "files += base // 'goofit/*/*.h'\n",
    "rel = [f - base for f in files]"
   ]
  },
  {
   "cell_type": "code",
   "execution_count": 2,
   "metadata": {
    "collapsed": false
   },
   "outputs": [],
   "source": [
    "src = [a for a in (local.cwd).walk() if a.suffix in ['.cu', '.cc', '.cpp', '.h'] ]"
   ]
  },
  {
   "cell_type": "code",
   "execution_count": 6,
   "metadata": {
    "collapsed": false
   },
   "outputs": [],
   "source": [
    "src = [s for s in src if 'MCBooster' not in str(s)]"
   ]
  },
  {
   "cell_type": "code",
   "execution_count": 38,
   "metadata": {
    "collapsed": false
   },
   "outputs": [],
   "source": [
    "for name in src:\n",
    "    with name.open('r') as f:\n",
    "        contents = f.read()\n",
    "    for r in rel:\n",
    "        before = r.parts[-1]\n",
    "        after = str(r)\n",
    "        if before in contents:\n",
    "            contents = re.compile(r'[\"<]'+before+r'[h?][\">]').sub('\"'+after+'\"',contents)\n",
    "    with name.open('w') as f:\n",
    "        f.write(contents)"
   ]
  },
  {
   "cell_type": "code",
   "execution_count": null,
   "metadata": {
    "collapsed": true
   },
   "outputs": [],
   "source": []
  }
 ],
 "metadata": {
  "anaconda-cloud": {},
  "kernelspec": {
   "display_name": "Python [default]",
   "language": "python",
   "name": "python3"
  },
  "language_info": {
   "codemirror_mode": {
    "name": "ipython",
    "version": 3
   },
   "file_extension": ".py",
   "mimetype": "text/x-python",
   "name": "python",
   "nbconvert_exporter": "python",
   "pygments_lexer": "ipython3",
   "version": "3.5.2"
  }
 },
 "nbformat": 4,
 "nbformat_minor": 1
}
